{
 "cells": [
  {
   "cell_type": "code",
   "execution_count": 3,
   "id": "29427ef3",
   "metadata": {},
   "outputs": [],
   "source": [
    "#standard ds libraries\n",
    "import pandas as pd\n",
    "import numpy as np\n",
    "\n",
    "# my acquire and prepare file\n",
    "import acquire\n",
    "import prepare\n",
    "\n",
    "\n",
    "# import splitting functions\n",
    "from sklearn.model_selection import train_test_split"
   ]
  },
  {
   "cell_type": "code",
   "execution_count": null,
   "id": "de2dee1f",
   "metadata": {},
   "outputs": [],
   "source": [
    "# 4. In a jupyter notebook, classification_exercises.ipynb, use a python module (pydata or seaborn datasets)\n",
    "# containing datasets as a source from the iris data. Create a pandas dataframe, df_iris, from this data."
   ]
  },
  {
   "cell_type": "code",
   "execution_count": null,
   "id": "c8031066",
   "metadata": {},
   "outputs": [],
   "source": [
    "df_iris = data('iris')\n",
    "df_iris.info()\n",
    "# data('iris', show_doc=True) "
   ]
  },
  {
   "cell_type": "code",
   "execution_count": null,
   "id": "4f438ac2",
   "metadata": {},
   "outputs": [],
   "source": [
    "# print the first 3 rows\n",
    "print(df_iris.head(3))"
   ]
  },
  {
   "cell_type": "code",
   "execution_count": null,
   "id": "b0022db5",
   "metadata": {},
   "outputs": [],
   "source": [
    "# print the number of rows and columns (shape)\n",
    "print(df_iris.shape)"
   ]
  },
  {
   "cell_type": "code",
   "execution_count": null,
   "id": "e6c4a8cb",
   "metadata": {},
   "outputs": [],
   "source": [
    "# print the column names\n",
    "print(df_iris.columns)\n",
    "o# or df_iris.columns.to_list()"
   ]
  },
  {
   "cell_type": "code",
   "execution_count": null,
   "id": "7275caea",
   "metadata": {},
   "outputs": [],
   "source": [
    "# print the data type of each column\n",
    "print(df_iris.dtypes)"
   ]
  },
  {
   "cell_type": "code",
   "execution_count": null,
   "id": "e2872f33",
   "metadata": {},
   "outputs": [],
   "source": [
    "# print the summary statistics for each of the numeric variables\n",
    "print(df_iris.describe().T) #.T transposes it for better readability"
   ]
  },
  {
   "cell_type": "markdown",
   "id": "cd88d32b",
   "metadata": {},
   "source": [
    "### # 5. Read the data from this google sheet into a dataframe, df_google."
   ]
  },
  {
   "cell_type": "code",
   "execution_count": null,
   "id": "05bd7ffe",
   "metadata": {},
   "outputs": [],
   "source": [
    "# Read the data from this google sheet into a dataframe, df_google.\n",
    "\n",
    "sheet_url = 'https://docs.google.com/spreadsheets/d/1Uhtml8KY19LILuZsrDtlsHHDC9wuDGUSe8LTEwvdI5g/edit#gid=341089357'    \n",
    "\n",
    "csv_export_url = sheet_url.replace('/edit#gid=', '/export?format=csv&gid=')\n",
    "\n",
    "df_google = pd.read_csv(csv_export_url)\n",
    "df_google.head()"
   ]
  },
  {
   "cell_type": "code",
   "execution_count": null,
   "id": "a9d881e1",
   "metadata": {},
   "outputs": [],
   "source": [
    "df_google.info()"
   ]
  },
  {
   "cell_type": "code",
   "execution_count": null,
   "id": "caf5872e",
   "metadata": {},
   "outputs": [],
   "source": [
    "#Print the first 3 rows\n",
    "print(df_google.head(3))"
   ]
  },
  {
   "cell_type": "code",
   "execution_count": null,
   "id": "8ef80ce0",
   "metadata": {},
   "outputs": [],
   "source": [
    "# print the number of rows and columns\n",
    "print(df_google.shape)"
   ]
  },
  {
   "cell_type": "code",
   "execution_count": null,
   "id": "4b2bc95c",
   "metadata": {},
   "outputs": [],
   "source": [
    "# print the column names\n",
    "print(df_google.columns)"
   ]
  },
  {
   "cell_type": "code",
   "execution_count": null,
   "id": "7c1667d3",
   "metadata": {},
   "outputs": [],
   "source": [
    "# print the data type of each column\n",
    "print(df_google.dtypes)"
   ]
  },
  {
   "cell_type": "code",
   "execution_count": null,
   "id": "e37eb13b",
   "metadata": {},
   "outputs": [],
   "source": [
    "# print the summary statistics for each of the numeric variables\n",
    "print(df_google.describe())"
   ]
  },
  {
   "cell_type": "code",
   "execution_count": null,
   "id": "b5825e19",
   "metadata": {},
   "outputs": [],
   "source": [
    "# print the unique values for each of your categorical variables\n",
    "df_google.Survived.value_counts(dropna=False)\n",
    "df_google.Name.value_counts(dropna=False)\n",
    "df_google.Sex.value_counts(dropna=False)\n",
    "df_google.Cabin.value_counts(dropna=False)\n",
    "df_google.Embarked.value_counts(dropna=False)"
   ]
  },
  {
   "cell_type": "markdown",
   "id": "e304d9dd",
   "metadata": {},
   "source": [
    "### 6. Download the previous exercise's file into an excel (File → Download → Microsoft Excel). Read the downloaded file into a dataframe named df_excel."
   ]
  },
  {
   "cell_type": "code",
   "execution_count": null,
   "id": "c96cb8c9",
   "metadata": {},
   "outputs": [],
   "source": [
    "df_excel = pd.read_excel(\"train.xlsx\", sheet_name='train')\n",
    "print(df_excel.head())"
   ]
  },
  {
   "cell_type": "code",
   "execution_count": null,
   "id": "17ded79f",
   "metadata": {},
   "outputs": [],
   "source": [
    "# assign the first 100 rows to a new dataframe, df_excel_sample\n",
    "df_excel_sample = df_excel.head(100)\n",
    "print(df_excel_sample.head())"
   ]
  },
  {
   "cell_type": "code",
   "execution_count": null,
   "id": "37f5e4a0",
   "metadata": {},
   "outputs": [],
   "source": [
    "# print the number of rows of your original dataframe\n",
    "print(len(df_excel)) #or df_excel.shape[0]"
   ]
  },
  {
   "cell_type": "code",
   "execution_count": null,
   "id": "cb717e11",
   "metadata": {},
   "outputs": [],
   "source": [
    "# print the first 5 column names\n",
    "df_excel.columns[:5]"
   ]
  },
  {
   "cell_type": "code",
   "execution_count": null,
   "id": "d8b41d89",
   "metadata": {},
   "outputs": [],
   "source": [
    "# print the column names that have a data type of object\n",
    "object_columns = df_excel.select_dtypes(include=['object']).head()\n",
    "object_columns"
   ]
  },
  {
   "cell_type": "code",
   "execution_count": null,
   "id": "08adfdfb",
   "metadata": {},
   "outputs": [],
   "source": [
    "# compute the range for each of the numeric variables.\n",
    "titanic_stats = df_excel[['Age', 'Fare']].describe().T\n",
    "titanic_stats['range'] = titanic_stats['max'] -titanic_stats['min']\n",
    "titanic_stats"
   ]
  },
  {
   "cell_type": "markdown",
   "id": "1ece855a",
   "metadata": {},
   "source": [
    "#### Make a new python module, acquire.py to hold the following data aquisition functions:"
   ]
  },
  {
   "cell_type": "code",
   "execution_count": null,
   "id": "b91746d3",
   "metadata": {},
   "outputs": [],
   "source": [
    "# Make a function named get_titanic_data that returns the titanic data from the codeup\n",
    "# data science database as a pandas data frame. Obtain your data from the Codeup Data Science Database.\n",
    "\n",
    "import env\n",
    "\n",
    "def get_titanic_data():\n",
    "    url = env.get_db_url('titanic_db')\n",
    "    \n",
    "    return pd.read_sql('SELECT * FROM passengers', url)\n",
    "\n",
    "get_titanic_data()"
   ]
  },
  {
   "cell_type": "code",
   "execution_count": null,
   "id": "813eca93",
   "metadata": {},
   "outputs": [],
   "source": [
    "# Make a function named get_iris_data that returns the data from the iris_db on the codeup\n",
    "# data science database as a pandas data frame. The returned data frame should include the \n",
    "# actual name of the species in addition to the species_ids. Obtain your data from the Codeup Data Science Database.\n",
    "from env import user, password, host\n",
    "\n",
    "#url = f'mysql+pymysql://{user}:{password}@{host}/iris_db'\n",
    "\n",
    "def get_iris_data():\n",
    "    from env import user, password, host\n",
    "    url = f'mysql+pymysql://{user}:{password}@{host}/iris_db'\n",
    "    url = env.get_db_url('iris_db')\n",
    "    return pd.read_sql('SELECT * FROM measurements JOIN iris_db.species USING(species_id)', url)"
   ]
  },
  {
   "cell_type": "code",
   "execution_count": null,
   "id": "adb187ef",
   "metadata": {},
   "outputs": [],
   "source": [
    "get_iris_data()"
   ]
  },
  {
   "cell_type": "code",
   "execution_count": null,
   "id": "97e91caf",
   "metadata": {},
   "outputs": [],
   "source": [
    "# Make a function named get_telco_data that returns the data from the telco_churn database in SQL. \n",
    "# In your SQL, be sure to join contract_types, internet_service_types, payment_types tables with \n",
    "# the customers table, so that the resulting dataframe contains all the contract, payment, \n",
    "# and internet service options. Obtain your data from the Codeup Data Science Database.\n",
    "\n",
    "def get_telco_data():\n",
    "    from env import user, password, host\n",
    "    url = f'mysql+pymysql://{user}:{password}@{host}/telco_churn'\n",
    "    url = env.get_db_url('telco_churn')\n",
    "    return pd.read_sql('SELECT * FROM customers\\\n",
    "    JOIN telco_churn.contract_types USING(contract_type_id)\\\n",
    "    JOIN telco_churn.internet_service_types USING(internet_service_type_id)\\\n",
    "    JOIN telco_churn.payment_types USING(payment_type_id)', url)\n",
    "\n",
    "get_telco_data()"
   ]
  },
  {
   "cell_type": "markdown",
   "id": "6969cab2",
   "metadata": {},
   "source": [
    "#### Once you've got your get_titanic_data, get_iris_data, and get_telco_data functions written, now it's time to add caching to them. To do this, edit the beginning of the function to check for the local filename of telco.csv, titanic.csv, or iris.csv. If they exist, use the .csv file. If the file doesn't exist, then produce the SQL and pandas necessary to create a dataframe, then write the dataframe to a .csv file with the appropriate name."
   ]
  },
  {
   "cell_type": "code",
   "execution_count": null,
   "id": "24d90c43",
   "metadata": {},
   "outputs": [],
   "source": [
    "def get_titanic_data():\n",
    "    filename = \"titanic.csv\"\n",
    "    if os.path.isfile(filename):\n",
    "        return pd.read_csv(filename)\n",
    "    else:\n",
    "        url = env.get_db_url('titanic_db')\n",
    "        return pd.read_sql('SELECT * FROM passengers', url)\n",
    "    \n",
    "titanic_df = get_titanic_data()\n",
    "titanic_df.to_csv(\"titanic.csv\")"
   ]
  },
  {
   "cell_type": "code",
   "execution_count": null,
   "id": "833962c0",
   "metadata": {},
   "outputs": [],
   "source": [
    "def get_iris_data():\n",
    "    filename = \"iris.csv\"\n",
    "    if os.path.isfile(filename):\n",
    "        return pd.read_csv(filename)\n",
    "    else:\n",
    "        from env import user, password, host\n",
    "        url = f'mysql+pymysql://{user}:{password}@{host}/iris_db'\n",
    "        url = env.get_db_url('iris_db')\n",
    "        return pd.read_sql('SELECT * FROM measurements JOIN iris_db.species USING(species_id)', url)\n",
    "\n",
    "iris_df = get_iris_data()\n",
    "iris_df.to_csv(\"iris.csv\")"
   ]
  },
  {
   "cell_type": "code",
   "execution_count": null,
   "id": "da3ffcd0",
   "metadata": {},
   "outputs": [],
   "source": [
    "def get_telco_data():\n",
    "    filename = \"telco.csv\"\n",
    "    if os.path.isfile(filename):\n",
    "        return pd.read_csv(filename)\n",
    "    else:\n",
    "        from env import user, password, host\n",
    "        url = f'mysql+pymysql://{user}:{password}@{host}/telco_churn'\n",
    "        url = env.get_db_url('telco_churn')\n",
    "        return pd.read_sql('SELECT * FROM customers\\\n",
    "        JOIN telco_churn.contract_types USING(contract_type_id)\\\n",
    "        JOIN telco_churn.internet_service_types USING(internet_service_type_id)\\\n",
    "        JOIN telco_churn.payment_types USING(payment_type_id)', url)\n",
    "\n",
    "telco_df = get_telco_data()\n",
    "telco_df.to_csv(\"telco.csv\")"
   ]
  },
  {
   "cell_type": "code",
   "execution_count": null,
   "id": "f0e185b4",
   "metadata": {},
   "outputs": [],
   "source": [
    "#Use import acquire to get these functions from other notebooks"
   ]
  },
  {
   "cell_type": "markdown",
   "id": "22defd45",
   "metadata": {},
   "source": [
    "## Data Preparation Exercises"
   ]
  },
  {
   "cell_type": "markdown",
   "id": "0436c59c",
   "metadata": {},
   "source": [
    "The end product of this exercise should be the specified functions in a python script named prepare.py. Do these in your classification_exercises.ipynb first, then transfer to the prepare.py file.\n",
    "\n",
    "This work should all be saved in your local classification-exercises repo. Then add, commit, and push your changes.\n",
    "\n",
    "## Using the Iris Data"
   ]
  },
  {
   "cell_type": "code",
   "execution_count": null,
   "id": "c4f495c3",
   "metadata": {},
   "outputs": [],
   "source": [
    "# 1. Use the function defined in acquire.py to load the iris data.\n",
    "iris_df = acquire.get_iris_data()"
   ]
  },
  {
   "cell_type": "code",
   "execution_count": null,
   "id": "7105a9af",
   "metadata": {},
   "outputs": [],
   "source": [
    "iris_df.head()"
   ]
  },
  {
   "cell_type": "code",
   "execution_count": null,
   "id": "2a7df7dc",
   "metadata": {},
   "outputs": [],
   "source": [
    "# 2. Drop the species_id and measurement_id columns.\n",
    "iris_df.shape"
   ]
  },
  {
   "cell_type": "code",
   "execution_count": null,
   "id": "3afc4ae8",
   "metadata": {},
   "outputs": [],
   "source": [
    "columns_to_drop = ['species_id', 'measurement_id']\n",
    "iris_df = iris_df.drop(columns = columns_to_drop)"
   ]
  },
  {
   "cell_type": "code",
   "execution_count": null,
   "id": "59f5fae8",
   "metadata": {},
   "outputs": [],
   "source": [
    "iris_df.head()"
   ]
  },
  {
   "cell_type": "code",
   "execution_count": null,
   "id": "d1cb6286",
   "metadata": {},
   "outputs": [],
   "source": [
    "# 3. Rename the species_name column to just species.\n",
    "iris_df = iris_df.rename(columns={'species_name': 'species'})\n",
    "iris_df.head()"
   ]
  },
  {
   "cell_type": "code",
   "execution_count": null,
   "id": "ede24128",
   "metadata": {},
   "outputs": [],
   "source": [
    "# 4. Create dummy variables of the species name and concatenate onto the iris dataframe. \n",
    "# (This is for practice, we don't always have to encode the target, but if we used species \n",
    "# as a feature, we would need to encode it).\n",
    "# Using drop_first leaves sex_male, embark_town_Queenstown, and embark_town_Southampton.\n",
    "\n",
    "dummy_df = pd.get_dummies(iris_df[['species']], dummy_na=False, drop_first=True)\n",
    "dummy_df.head()"
   ]
  },
  {
   "cell_type": "code",
   "execution_count": null,
   "id": "39460e74",
   "metadata": {},
   "outputs": [],
   "source": [
    "iris_df = pd.concat([iris_df, dummy_df], axis=1)\n",
    "iris_df.head()"
   ]
  },
  {
   "cell_type": "code",
   "execution_count": null,
   "id": "2b21f2b9",
   "metadata": {},
   "outputs": [],
   "source": [
    "# 5 Create a function named prep_iris that accepts the untransformed iris data, and returns the data\n",
    "# with the transformations above applied.\n",
    "def prep_iris(df):\n",
    "    # Drop duplicates\n",
    "    df.drop_duplicates(inplace=True)\n",
    "    #rename column\n",
    "    df = df.rename(columns={'species_name': 'species'})\n",
    "    # Drop columns \n",
    "    columns_to_drop = ['species_id', 'measurement_id']\n",
    "    df = df.drop(columns = columns_to_drop)\n",
    "    # encoded categorical variables\n",
    "    dummy_df = pd.get_dummies(df[['species']], dummy_na=False, drop_first=True)\n",
    "    df = pd.concat([df, dummy_df], axis=1)\n",
    "    return df"
   ]
  },
  {
   "cell_type": "code",
   "execution_count": null,
   "id": "7d4119aa",
   "metadata": {},
   "outputs": [],
   "source": [
    "df.head()"
   ]
  },
  {
   "cell_type": "code",
   "execution_count": null,
   "id": "4143ab3c",
   "metadata": {},
   "outputs": [],
   "source": [
    "df = acquire.get_iris_data()\n",
    "prep_iris(df)"
   ]
  },
  {
   "cell_type": "markdown",
   "id": "b5f0ca9a",
   "metadata": {},
   "source": [
    "## Using the Titanic dataset"
   ]
  },
  {
   "cell_type": "code",
   "execution_count": null,
   "id": "6d85e67b",
   "metadata": {},
   "outputs": [],
   "source": [
    "#1 Use the function defined in acquire.py to load the Titanic data.\n",
    "titanic_df = acquire.get_titanic_data()\n",
    "titanic_df.head()"
   ]
  },
  {
   "cell_type": "code",
   "execution_count": null,
   "id": "e2ee9d1e",
   "metadata": {},
   "outputs": [],
   "source": [
    "# 2. Drop any unnecessary, unhelpful, or duplicated columns.\n",
    "titanic_df.shape"
   ]
  },
  {
   "cell_type": "code",
   "execution_count": null,
   "id": "02b67286",
   "metadata": {},
   "outputs": [],
   "source": [
    "titanic_df.info()"
   ]
  },
  {
   "cell_type": "code",
   "execution_count": null,
   "id": "71dcbb28",
   "metadata": {},
   "outputs": [],
   "source": [
    "columns_to_drop = ['embarked', 'pclass', 'passenger_id', 'deck']\n",
    "titanic_df = titanic_df.drop(columns = columns_to_drop) \n",
    "titanic_df.head()"
   ]
  },
  {
   "cell_type": "code",
   "execution_count": null,
   "id": "b47d5990",
   "metadata": {},
   "outputs": [],
   "source": [
    "# Encode the categorical columns. Create dummy variables of the categorical columns and \n",
    "# concatenate them onto the dataframe.\n",
    "dummy_df = pd.get_dummies(titanic_df[['sex', 'class', 'embark_town']], dummy_na=False, drop_first=[True, True])\n",
    "dummy_df.head()"
   ]
  },
  {
   "cell_type": "code",
   "execution_count": null,
   "id": "2c7e02bd",
   "metadata": {},
   "outputs": [],
   "source": [
    "# Concatenate my dummy_df to my data\n",
    "titanic_df = pd.concat([titanic_df, dummy_df], axis=1)\n",
    "titanic_df"
   ]
  },
  {
   "cell_type": "code",
   "execution_count": null,
   "id": "feabd168",
   "metadata": {},
   "outputs": [],
   "source": [
    "# 4. Create a function named prep_titanic that accepts the raw titanic data, and returns the data\n",
    "# with the transformations above applied.\n",
    "def prep_titanic(df):\n",
    "    # Drop duplicates\n",
    "    df.drop_duplicates(inplace=True)\n",
    "    # Drop columns \n",
    "    columns_to_drop = ['embarked', 'pclass', 'passenger_id', 'deck']\n",
    "    df = df.drop(columns = columns_to_drop)\n",
    "    # encoded categorical variables\n",
    "    dummy_df = pd.get_dummies(df[['sex', 'class', 'embark_town']], dummy_na=False, drop_first=[True, True])\n",
    "    df = pd.concat([df, dummy_df], axis=1)\n",
    "    return df"
   ]
  },
  {
   "cell_type": "code",
   "execution_count": null,
   "id": "5b0f7e3f",
   "metadata": {},
   "outputs": [],
   "source": [
    "df = acquire.get_titanic_data()\n",
    "clean_titanic = prep_titanic(df)\n",
    "clean_titanic.head()"
   ]
  },
  {
   "cell_type": "markdown",
   "id": "c1850048",
   "metadata": {},
   "source": [
    "## Using the Telco dataset"
   ]
  },
  {
   "cell_type": "code",
   "execution_count": null,
   "id": "94654019",
   "metadata": {},
   "outputs": [],
   "source": [
    "#1 Use the function defined in acquire.py to load the Telco data.\n",
    "telco_df = acquire.get_telco_data()\n",
    "telco_df.head()"
   ]
  },
  {
   "cell_type": "code",
   "execution_count": null,
   "id": "859e4fdf",
   "metadata": {
    "scrolled": false
   },
   "outputs": [],
   "source": [
    "# 2. Drop any unnecessary, unhelpful, or duplicated columns. This could mean dropping foreign key columns\n",
    "# but keeping the corresponding string values, for example.\n",
    "telco_df.info()\n",
    "telco_df.shape"
   ]
  },
  {
   "cell_type": "code",
   "execution_count": null,
   "id": "3d103e5d",
   "metadata": {},
   "outputs": [],
   "source": [
    "#dropping duplicates, None here\n",
    "telco_df = telco_df.drop_duplicates()\n",
    "telco_df.shape"
   ]
  },
  {
   "cell_type": "code",
   "execution_count": null,
   "id": "edf3fe85",
   "metadata": {},
   "outputs": [],
   "source": [
    "#dropping unneccessary columns\n",
    "columns_to_drop = ['payment_type_id', 'internet_service_type_id', 'contract_type_id']\n",
    "telco_df = telco_df.drop(columns = columns_to_drop)"
   ]
  },
  {
   "cell_type": "code",
   "execution_count": null,
   "id": "65fdd447",
   "metadata": {},
   "outputs": [],
   "source": [
    "telco_df.head()"
   ]
  },
  {
   "cell_type": "code",
   "execution_count": null,
   "id": "ce3ec2f5",
   "metadata": {},
   "outputs": [],
   "source": [
    "# 3 Encode the categorical columns. Create dummy variables of the categorical columns and concatenate\n",
    "# them onto the dataframe.\n",
    "# Creating a list of our numeric columns\n",
    "numcols = [col for col in telco_df.columns if telco_df[col].dtype != 'O']\n",
    "numcols"
   ]
  },
  {
   "cell_type": "code",
   "execution_count": null,
   "id": "aa89fa85",
   "metadata": {},
   "outputs": [],
   "source": [
    "# Creating a list of our categorical columns\n",
    "catcols = [col for col in telco_df.columns if telco_df[col].dtype == 'O']\n",
    "catcols"
   ]
  },
  {
   "cell_type": "code",
   "execution_count": null,
   "id": "f2590ef3",
   "metadata": {},
   "outputs": [],
   "source": [
    "dummy_df = pd.get_dummies(telco_df[[\n",
    " 'gender',\n",
    " 'partner',\n",
    " 'dependents',\n",
    " 'phone_service',\n",
    " 'multiple_lines',\n",
    " 'online_security',\n",
    " 'online_backup',\n",
    " 'device_protection',\n",
    " 'tech_support',\n",
    " 'streaming_tv',\n",
    " 'streaming_movies',\n",
    " 'paperless_billing',\n",
    " 'churn',\n",
    " 'contract_type',\n",
    " 'internet_service_type',\n",
    " 'payment_type']], dummy_na=False, drop_first=[True, True])"
   ]
  },
  {
   "cell_type": "code",
   "execution_count": null,
   "id": "42194aaf",
   "metadata": {},
   "outputs": [],
   "source": [
    "dummy_df.head()"
   ]
  },
  {
   "cell_type": "code",
   "execution_count": null,
   "id": "c2a1a808",
   "metadata": {},
   "outputs": [],
   "source": [
    "# 4. Create a function named prep_telco that accepts the raw telco data, and returns the data with the\n",
    "# transformations above applied.\n",
    "def prep_telco(df):\n",
    "    # Drop duplicates\n",
    "    df.drop_duplicates(inplace=True)\n",
    "    # Drop columns \n",
    "    columns_to_drop = ['payment_type_id', 'internet_service_type_id', 'contract_type_id']\n",
    "    df = df.drop(columns = columns_to_drop)\n",
    "    # encoded categorical variables\n",
    "    dummy_df = pd.get_dummies(df[['gender','partner','dependents','phone_service', 'multiple_lines','online_security','online_backup','device_protection','tech_support','streaming_tv','streaming_movies','paperless_billing','churn','contract_type','internet_service_type','payment_type']], dummy_na=False, drop_first=[True, True])\n",
    "    df = pd.concat([df, dummy_df], axis=1)\n",
    "    return df"
   ]
  },
  {
   "cell_type": "code",
   "execution_count": null,
   "id": "11341517",
   "metadata": {},
   "outputs": [],
   "source": [
    "df = acquire.get_telco_data()"
   ]
  },
  {
   "cell_type": "code",
   "execution_count": null,
   "id": "ea675495",
   "metadata": {},
   "outputs": [],
   "source": [
    "df = prep_telco(df)"
   ]
  },
  {
   "cell_type": "code",
   "execution_count": null,
   "id": "9ec67761",
   "metadata": {},
   "outputs": [],
   "source": [
    "df.head()"
   ]
  },
  {
   "cell_type": "markdown",
   "id": "43c78d2f",
   "metadata": {},
   "source": [
    "## Split your data"
   ]
  },
  {
   "cell_type": "code",
   "execution_count": null,
   "id": "6637e257",
   "metadata": {},
   "outputs": [],
   "source": [
    "import prepare"
   ]
  },
  {
   "cell_type": "code",
   "execution_count": null,
   "id": "ba7e2368",
   "metadata": {},
   "outputs": [],
   "source": [
    "#1 Write a function to split your data into train, test and validate datasets. Add this function to prepare.py."
   ]
  },
  {
   "cell_type": "code",
   "execution_count": null,
   "id": "969abc6c",
   "metadata": {},
   "outputs": [],
   "source": [
    "# 20% test, 80% train_validate\n",
    "# then of the 80% train_validate: 30% validate, 70% train. \n",
    "\n",
    "train_validate, test = train_test_split(df, test_size=.2, \n",
    "                                        random_state=123, \n",
    "                                        stratify=df.churn)\n",
    "train, validate = train_test_split(train_validate, test_size=.3, \n",
    "                                   random_state=123, \n",
    "                                   stratify=train_validate.churn)"
   ]
  },
  {
   "cell_type": "markdown",
   "id": "d1606a1f",
   "metadata": {},
   "source": [
    "### 2. Run the function in your notebook on the Iris dataset, returning 3 datasets, train_iris, validate_iris and test_iris."
   ]
  },
  {
   "cell_type": "code",
   "execution_count": 2,
   "id": "dcd7824a",
   "metadata": {},
   "outputs": [],
   "source": [
    "#Acquire iris data\n",
    "df = acquire.get_iris_data()"
   ]
  },
  {
   "cell_type": "code",
   "execution_count": 3,
   "id": "8053a647",
   "metadata": {},
   "outputs": [],
   "source": [
    "#Prep iris data\n",
    "df = prepare.prep_iris(df)"
   ]
  },
  {
   "cell_type": "code",
   "execution_count": 4,
   "id": "1a319694",
   "metadata": {},
   "outputs": [],
   "source": [
    "#Set target variable\n",
    "target = 'species'"
   ]
  },
  {
   "cell_type": "code",
   "execution_count": 6,
   "id": "a1152c6b",
   "metadata": {},
   "outputs": [],
   "source": [
    "#Train test split\n",
    "#from prepare import my_train_test_split\n",
    "train_iris, validate_iris, test_iris = prepare.my_train_test_split(df, target)"
   ]
  },
  {
   "cell_type": "code",
   "execution_count": 9,
   "id": "cb394f59",
   "metadata": {},
   "outputs": [
    {
     "data": {
      "text/plain": [
       "(90, 7)"
      ]
     },
     "execution_count": 9,
     "metadata": {},
     "output_type": "execute_result"
    }
   ],
   "source": [
    "#Check training datasets\n",
    "train_iris.shape\n",
    "test_iris.shape\n",
    "validate_iris.shape"
   ]
  },
  {
   "cell_type": "markdown",
   "id": "b452c478",
   "metadata": {},
   "source": [
    "### 3. Run the function on the Titanic dataset, returning 3 datasets, train_titanic, validate_titanic and test_titanic."
   ]
  },
  {
   "cell_type": "code",
   "execution_count": 1,
   "id": "17b56a0f",
   "metadata": {},
   "outputs": [
    {
     "ename": "NameError",
     "evalue": "name 'acquire' is not defined",
     "output_type": "error",
     "traceback": [
      "\u001b[0;31m---------------------------------------------------------------------------\u001b[0m",
      "\u001b[0;31mNameError\u001b[0m                                 Traceback (most recent call last)",
      "Input \u001b[0;32mIn [1]\u001b[0m, in \u001b[0;36m<cell line: 2>\u001b[0;34m()\u001b[0m\n\u001b[1;32m      1\u001b[0m \u001b[38;5;66;03m#Acquire titanic data\u001b[39;00m\n\u001b[0;32m----> 2\u001b[0m df \u001b[38;5;241m=\u001b[39m \u001b[43macquire\u001b[49m\u001b[38;5;241m.\u001b[39mget_titanic_data()\n",
      "\u001b[0;31mNameError\u001b[0m: name 'acquire' is not defined"
     ]
    }
   ],
   "source": [
    "#Acquire titanic data\n",
    "df = acquire.get_titanic_data()"
   ]
  },
  {
   "cell_type": "code",
   "execution_count": 11,
   "id": "77c851f6",
   "metadata": {},
   "outputs": [],
   "source": [
    "#Prep titanic data\n",
    "df = prepare.prep_titanic(df)"
   ]
  },
  {
   "cell_type": "code",
   "execution_count": 12,
   "id": "fa8a30be",
   "metadata": {},
   "outputs": [],
   "source": [
    "#Set target variable\n",
    "target = 'survived'"
   ]
  },
  {
   "cell_type": "code",
   "execution_count": 13,
   "id": "deaabed7",
   "metadata": {},
   "outputs": [],
   "source": [
    "#Train test split\n",
    "#from prepare import my_train_test_split\n",
    "train_titanic, validate_titanic, test_titanic = prepare.my_train_test_split(df, target)"
   ]
  },
  {
   "cell_type": "code",
   "execution_count": 14,
   "id": "65fecafa",
   "metadata": {
    "scrolled": true
   },
   "outputs": [
    {
     "data": {
      "text/plain": [
       "(178, 14)"
      ]
     },
     "execution_count": 14,
     "metadata": {},
     "output_type": "execute_result"
    }
   ],
   "source": [
    "#Check training datasets\n",
    "train_titanic.shape\n",
    "test_titanic.shape\n",
    "validate_titanic.shape"
   ]
  },
  {
   "cell_type": "markdown",
   "id": "3095d0cf",
   "metadata": {},
   "source": [
    "### 4. Run the function on the Telco dataset, returning 3 datasets, train_telco, validate_telco and test_telco."
   ]
  },
  {
   "cell_type": "code",
   "execution_count": 15,
   "id": "543f801c",
   "metadata": {},
   "outputs": [],
   "source": [
    "#Acquire telco data\n",
    "df = acquire.get_telco_data()"
   ]
  },
  {
   "cell_type": "code",
   "execution_count": 16,
   "id": "0a6f9940",
   "metadata": {},
   "outputs": [],
   "source": [
    "#Prep telco data\n",
    "df = prepare.prep_telco(df)"
   ]
  },
  {
   "cell_type": "code",
   "execution_count": 17,
   "id": "e492adc6",
   "metadata": {},
   "outputs": [],
   "source": [
    "target = 'churn'"
   ]
  },
  {
   "cell_type": "code",
   "execution_count": 18,
   "id": "4217184f",
   "metadata": {},
   "outputs": [],
   "source": [
    "#Train test split\n",
    "train_telco, validate_telco, test_telco = prepare.my_train_test_split(df, target)"
   ]
  },
  {
   "cell_type": "code",
   "execution_count": 19,
   "id": "5ff84191",
   "metadata": {},
   "outputs": [
    {
     "data": {
      "text/plain": [
       "(4225, 48)"
      ]
     },
     "execution_count": 19,
     "metadata": {},
     "output_type": "execute_result"
    }
   ],
   "source": [
    "train_telco.shape"
   ]
  },
  {
   "cell_type": "code",
   "execution_count": 20,
   "id": "afea25bc",
   "metadata": {},
   "outputs": [
    {
     "data": {
      "text/plain": [
       "(1409, 48)"
      ]
     },
     "execution_count": 20,
     "metadata": {},
     "output_type": "execute_result"
    }
   ],
   "source": [
    "validate_telco.shape"
   ]
  },
  {
   "cell_type": "code",
   "execution_count": 21,
   "id": "2db87c2f",
   "metadata": {},
   "outputs": [
    {
     "data": {
      "text/plain": [
       "(1409, 48)"
      ]
     },
     "execution_count": 21,
     "metadata": {},
     "output_type": "execute_result"
    }
   ],
   "source": [
    "test_telco.shape"
   ]
  },
  {
   "cell_type": "markdown",
   "id": "53c800c0",
   "metadata": {},
   "source": [
    "# Explore Lesson Exercises"
   ]
  },
  {
   "cell_type": "code",
   "execution_count": 41,
   "id": "38d96688",
   "metadata": {},
   "outputs": [],
   "source": [
    "#Imports\n",
    "import matplotlib.pyplot as plt\n",
    "import seaborn as sns\n",
    "import scipy.stats as stats"
   ]
  },
  {
   "cell_type": "markdown",
   "id": "6eb3cd59",
   "metadata": {},
   "source": [
    "### Section 1 - iris_db: Using iris data from our mySQL server and the methods used in the lesson above:"
   ]
  },
  {
   "cell_type": "markdown",
   "id": "775beb1d",
   "metadata": {},
   "source": [
    "### 1. Acquire, prepare & split your data."
   ]
  },
  {
   "cell_type": "code",
   "execution_count": 59,
   "id": "33786eb6",
   "metadata": {},
   "outputs": [
    {
     "data": {
      "text/html": [
       "<div>\n",
       "<style scoped>\n",
       "    .dataframe tbody tr th:only-of-type {\n",
       "        vertical-align: middle;\n",
       "    }\n",
       "\n",
       "    .dataframe tbody tr th {\n",
       "        vertical-align: top;\n",
       "    }\n",
       "\n",
       "    .dataframe thead th {\n",
       "        text-align: right;\n",
       "    }\n",
       "</style>\n",
       "<table border=\"1\" class=\"dataframe\">\n",
       "  <thead>\n",
       "    <tr style=\"text-align: right;\">\n",
       "      <th></th>\n",
       "      <th>species_id</th>\n",
       "      <th>measurement_id</th>\n",
       "      <th>sepal_length</th>\n",
       "      <th>sepal_width</th>\n",
       "      <th>petal_length</th>\n",
       "      <th>petal_width</th>\n",
       "      <th>species_name</th>\n",
       "    </tr>\n",
       "  </thead>\n",
       "  <tbody>\n",
       "    <tr>\n",
       "      <th>0</th>\n",
       "      <td>1</td>\n",
       "      <td>1</td>\n",
       "      <td>5.1</td>\n",
       "      <td>3.5</td>\n",
       "      <td>1.4</td>\n",
       "      <td>0.2</td>\n",
       "      <td>setosa</td>\n",
       "    </tr>\n",
       "    <tr>\n",
       "      <th>1</th>\n",
       "      <td>1</td>\n",
       "      <td>2</td>\n",
       "      <td>4.9</td>\n",
       "      <td>3.0</td>\n",
       "      <td>1.4</td>\n",
       "      <td>0.2</td>\n",
       "      <td>setosa</td>\n",
       "    </tr>\n",
       "    <tr>\n",
       "      <th>2</th>\n",
       "      <td>1</td>\n",
       "      <td>3</td>\n",
       "      <td>4.7</td>\n",
       "      <td>3.2</td>\n",
       "      <td>1.3</td>\n",
       "      <td>0.2</td>\n",
       "      <td>setosa</td>\n",
       "    </tr>\n",
       "    <tr>\n",
       "      <th>3</th>\n",
       "      <td>1</td>\n",
       "      <td>4</td>\n",
       "      <td>4.6</td>\n",
       "      <td>3.1</td>\n",
       "      <td>1.5</td>\n",
       "      <td>0.2</td>\n",
       "      <td>setosa</td>\n",
       "    </tr>\n",
       "    <tr>\n",
       "      <th>4</th>\n",
       "      <td>1</td>\n",
       "      <td>5</td>\n",
       "      <td>5.0</td>\n",
       "      <td>3.6</td>\n",
       "      <td>1.4</td>\n",
       "      <td>0.2</td>\n",
       "      <td>setosa</td>\n",
       "    </tr>\n",
       "  </tbody>\n",
       "</table>\n",
       "</div>"
      ],
      "text/plain": [
       "   species_id  measurement_id  sepal_length  sepal_width  petal_length  \\\n",
       "0           1               1           5.1          3.5           1.4   \n",
       "1           1               2           4.9          3.0           1.4   \n",
       "2           1               3           4.7          3.2           1.3   \n",
       "3           1               4           4.6          3.1           1.5   \n",
       "4           1               5           5.0          3.6           1.4   \n",
       "\n",
       "   petal_width species_name  \n",
       "0          0.2       setosa  \n",
       "1          0.2       setosa  \n",
       "2          0.2       setosa  \n",
       "3          0.2       setosa  \n",
       "4          0.2       setosa  "
      ]
     },
     "execution_count": 59,
     "metadata": {},
     "output_type": "execute_result"
    }
   ],
   "source": [
    "iris_df = acquire.get_iris_data()\n",
    "iris_df.head()"
   ]
  },
  {
   "cell_type": "code",
   "execution_count": 60,
   "id": "d7fa6d34",
   "metadata": {},
   "outputs": [],
   "source": [
    "#Prepare iris data\n",
    "iris_df = prepare.prep_iris(iris_df)"
   ]
  },
  {
   "cell_type": "code",
   "execution_count": 61,
   "id": "25c090f0",
   "metadata": {},
   "outputs": [
    {
     "data": {
      "text/html": [
       "<div>\n",
       "<style scoped>\n",
       "    .dataframe tbody tr th:only-of-type {\n",
       "        vertical-align: middle;\n",
       "    }\n",
       "\n",
       "    .dataframe tbody tr th {\n",
       "        vertical-align: top;\n",
       "    }\n",
       "\n",
       "    .dataframe thead th {\n",
       "        text-align: right;\n",
       "    }\n",
       "</style>\n",
       "<table border=\"1\" class=\"dataframe\">\n",
       "  <thead>\n",
       "    <tr style=\"text-align: right;\">\n",
       "      <th></th>\n",
       "      <th>sepal_length</th>\n",
       "      <th>sepal_width</th>\n",
       "      <th>petal_length</th>\n",
       "      <th>petal_width</th>\n",
       "      <th>species</th>\n",
       "      <th>species_versicolor</th>\n",
       "      <th>species_virginica</th>\n",
       "    </tr>\n",
       "  </thead>\n",
       "  <tbody>\n",
       "    <tr>\n",
       "      <th>0</th>\n",
       "      <td>5.1</td>\n",
       "      <td>3.5</td>\n",
       "      <td>1.4</td>\n",
       "      <td>0.2</td>\n",
       "      <td>setosa</td>\n",
       "      <td>0</td>\n",
       "      <td>0</td>\n",
       "    </tr>\n",
       "    <tr>\n",
       "      <th>1</th>\n",
       "      <td>4.9</td>\n",
       "      <td>3.0</td>\n",
       "      <td>1.4</td>\n",
       "      <td>0.2</td>\n",
       "      <td>setosa</td>\n",
       "      <td>0</td>\n",
       "      <td>0</td>\n",
       "    </tr>\n",
       "    <tr>\n",
       "      <th>2</th>\n",
       "      <td>4.7</td>\n",
       "      <td>3.2</td>\n",
       "      <td>1.3</td>\n",
       "      <td>0.2</td>\n",
       "      <td>setosa</td>\n",
       "      <td>0</td>\n",
       "      <td>0</td>\n",
       "    </tr>\n",
       "    <tr>\n",
       "      <th>3</th>\n",
       "      <td>4.6</td>\n",
       "      <td>3.1</td>\n",
       "      <td>1.5</td>\n",
       "      <td>0.2</td>\n",
       "      <td>setosa</td>\n",
       "      <td>0</td>\n",
       "      <td>0</td>\n",
       "    </tr>\n",
       "    <tr>\n",
       "      <th>4</th>\n",
       "      <td>5.0</td>\n",
       "      <td>3.6</td>\n",
       "      <td>1.4</td>\n",
       "      <td>0.2</td>\n",
       "      <td>setosa</td>\n",
       "      <td>0</td>\n",
       "      <td>0</td>\n",
       "    </tr>\n",
       "  </tbody>\n",
       "</table>\n",
       "</div>"
      ],
      "text/plain": [
       "   sepal_length  sepal_width  petal_length  petal_width species  \\\n",
       "0           5.1          3.5           1.4          0.2  setosa   \n",
       "1           4.9          3.0           1.4          0.2  setosa   \n",
       "2           4.7          3.2           1.3          0.2  setosa   \n",
       "3           4.6          3.1           1.5          0.2  setosa   \n",
       "4           5.0          3.6           1.4          0.2  setosa   \n",
       "\n",
       "   species_versicolor  species_virginica  \n",
       "0                   0                  0  \n",
       "1                   0                  0  \n",
       "2                   0                  0  \n",
       "3                   0                  0  \n",
       "4                   0                  0  "
      ]
     },
     "execution_count": 61,
     "metadata": {},
     "output_type": "execute_result"
    }
   ],
   "source": [
    "iris_df.head()"
   ]
  },
  {
   "cell_type": "code",
   "execution_count": 62,
   "id": "45bab5db",
   "metadata": {},
   "outputs": [],
   "source": [
    "#Split iris data\n",
    "#Set target variable\n",
    "target = 'species'\n",
    "train_iris, validate_iris, test_iris = prepare.my_train_test_split(iris_df, target)"
   ]
  },
  {
   "cell_type": "markdown",
   "id": "ab8dd52d",
   "metadata": {},
   "source": [
    "### 2. Univariate Stats"
   ]
  },
  {
   "cell_type": "code",
   "execution_count": 45,
   "id": "49bf005b",
   "metadata": {},
   "outputs": [
    {
     "data": {
      "text/html": [
       "<div>\n",
       "<style scoped>\n",
       "    .dataframe tbody tr th:only-of-type {\n",
       "        vertical-align: middle;\n",
       "    }\n",
       "\n",
       "    .dataframe tbody tr th {\n",
       "        vertical-align: top;\n",
       "    }\n",
       "\n",
       "    .dataframe thead th {\n",
       "        text-align: right;\n",
       "    }\n",
       "</style>\n",
       "<table border=\"1\" class=\"dataframe\">\n",
       "  <thead>\n",
       "    <tr style=\"text-align: right;\">\n",
       "      <th></th>\n",
       "      <th>sepal_length</th>\n",
       "      <th>sepal_width</th>\n",
       "      <th>petal_length</th>\n",
       "      <th>petal_width</th>\n",
       "      <th>species</th>\n",
       "      <th>species_versicolor</th>\n",
       "      <th>species_virginica</th>\n",
       "    </tr>\n",
       "  </thead>\n",
       "  <tbody>\n",
       "    <tr>\n",
       "      <th>count</th>\n",
       "      <td>150.000000</td>\n",
       "      <td>150.000000</td>\n",
       "      <td>150.000000</td>\n",
       "      <td>150.000000</td>\n",
       "      <td>150</td>\n",
       "      <td>150.000000</td>\n",
       "      <td>150.000000</td>\n",
       "    </tr>\n",
       "    <tr>\n",
       "      <th>unique</th>\n",
       "      <td>NaN</td>\n",
       "      <td>NaN</td>\n",
       "      <td>NaN</td>\n",
       "      <td>NaN</td>\n",
       "      <td>3</td>\n",
       "      <td>NaN</td>\n",
       "      <td>NaN</td>\n",
       "    </tr>\n",
       "    <tr>\n",
       "      <th>top</th>\n",
       "      <td>NaN</td>\n",
       "      <td>NaN</td>\n",
       "      <td>NaN</td>\n",
       "      <td>NaN</td>\n",
       "      <td>setosa</td>\n",
       "      <td>NaN</td>\n",
       "      <td>NaN</td>\n",
       "    </tr>\n",
       "    <tr>\n",
       "      <th>freq</th>\n",
       "      <td>NaN</td>\n",
       "      <td>NaN</td>\n",
       "      <td>NaN</td>\n",
       "      <td>NaN</td>\n",
       "      <td>50</td>\n",
       "      <td>NaN</td>\n",
       "      <td>NaN</td>\n",
       "    </tr>\n",
       "    <tr>\n",
       "      <th>mean</th>\n",
       "      <td>5.843333</td>\n",
       "      <td>3.057333</td>\n",
       "      <td>3.758000</td>\n",
       "      <td>1.199333</td>\n",
       "      <td>NaN</td>\n",
       "      <td>0.333333</td>\n",
       "      <td>0.333333</td>\n",
       "    </tr>\n",
       "    <tr>\n",
       "      <th>std</th>\n",
       "      <td>0.828066</td>\n",
       "      <td>0.435866</td>\n",
       "      <td>1.765298</td>\n",
       "      <td>0.762238</td>\n",
       "      <td>NaN</td>\n",
       "      <td>0.472984</td>\n",
       "      <td>0.472984</td>\n",
       "    </tr>\n",
       "    <tr>\n",
       "      <th>min</th>\n",
       "      <td>4.300000</td>\n",
       "      <td>2.000000</td>\n",
       "      <td>1.000000</td>\n",
       "      <td>0.100000</td>\n",
       "      <td>NaN</td>\n",
       "      <td>0.000000</td>\n",
       "      <td>0.000000</td>\n",
       "    </tr>\n",
       "    <tr>\n",
       "      <th>25%</th>\n",
       "      <td>5.100000</td>\n",
       "      <td>2.800000</td>\n",
       "      <td>1.600000</td>\n",
       "      <td>0.300000</td>\n",
       "      <td>NaN</td>\n",
       "      <td>0.000000</td>\n",
       "      <td>0.000000</td>\n",
       "    </tr>\n",
       "    <tr>\n",
       "      <th>50%</th>\n",
       "      <td>5.800000</td>\n",
       "      <td>3.000000</td>\n",
       "      <td>4.350000</td>\n",
       "      <td>1.300000</td>\n",
       "      <td>NaN</td>\n",
       "      <td>0.000000</td>\n",
       "      <td>0.000000</td>\n",
       "    </tr>\n",
       "    <tr>\n",
       "      <th>75%</th>\n",
       "      <td>6.400000</td>\n",
       "      <td>3.300000</td>\n",
       "      <td>5.100000</td>\n",
       "      <td>1.800000</td>\n",
       "      <td>NaN</td>\n",
       "      <td>1.000000</td>\n",
       "      <td>1.000000</td>\n",
       "    </tr>\n",
       "    <tr>\n",
       "      <th>max</th>\n",
       "      <td>7.900000</td>\n",
       "      <td>4.400000</td>\n",
       "      <td>6.900000</td>\n",
       "      <td>2.500000</td>\n",
       "      <td>NaN</td>\n",
       "      <td>1.000000</td>\n",
       "      <td>1.000000</td>\n",
       "    </tr>\n",
       "  </tbody>\n",
       "</table>\n",
       "</div>"
      ],
      "text/plain": [
       "        sepal_length  sepal_width  petal_length  petal_width species  \\\n",
       "count     150.000000   150.000000    150.000000   150.000000     150   \n",
       "unique           NaN          NaN           NaN          NaN       3   \n",
       "top              NaN          NaN           NaN          NaN  setosa   \n",
       "freq             NaN          NaN           NaN          NaN      50   \n",
       "mean        5.843333     3.057333      3.758000     1.199333     NaN   \n",
       "std         0.828066     0.435866      1.765298     0.762238     NaN   \n",
       "min         4.300000     2.000000      1.000000     0.100000     NaN   \n",
       "25%         5.100000     2.800000      1.600000     0.300000     NaN   \n",
       "50%         5.800000     3.000000      4.350000     1.300000     NaN   \n",
       "75%         6.400000     3.300000      5.100000     1.800000     NaN   \n",
       "max         7.900000     4.400000      6.900000     2.500000     NaN   \n",
       "\n",
       "        species_versicolor  species_virginica  \n",
       "count           150.000000         150.000000  \n",
       "unique                 NaN                NaN  \n",
       "top                    NaN                NaN  \n",
       "freq                   NaN                NaN  \n",
       "mean              0.333333           0.333333  \n",
       "std               0.472984           0.472984  \n",
       "min               0.000000           0.000000  \n",
       "25%               0.000000           0.000000  \n",
       "50%               0.000000           0.000000  \n",
       "75%               1.000000           1.000000  \n",
       "max               1.000000           1.000000  "
      ]
     },
     "execution_count": 45,
     "metadata": {},
     "output_type": "execute_result"
    }
   ],
   "source": [
    "##For each measurement type (quantitative variable): create a histogram, boxplot, & compute descriptive\n",
    "##statistics (using .describe()).\n",
    "iris_df.describe(include='all')"
   ]
  },
  {
   "cell_type": "code",
   "execution_count": 46,
   "id": "dc7aba83",
   "metadata": {},
   "outputs": [
    {
     "data": {
      "text/plain": [
       "sepal_length          float64\n",
       "sepal_width           float64\n",
       "petal_length          float64\n",
       "petal_width           float64\n",
       "species                object\n",
       "species_versicolor      uint8\n",
       "species_virginica       uint8\n",
       "dtype: object"
      ]
     },
     "execution_count": 46,
     "metadata": {},
     "output_type": "execute_result"
    }
   ],
   "source": [
    "iris_df.dtypes"
   ]
  },
  {
   "cell_type": "code",
   "execution_count": 47,
   "id": "a98f161d",
   "metadata": {},
   "outputs": [],
   "source": [
    "num_vars = ['sepal_length', 'sepal_width', 'petal_length', 'petal_width']\n",
    "cat_vars = ['species', 'species_versicolor', 'species_virginica']"
   ]
  },
  {
   "cell_type": "code",
   "execution_count": 48,
   "id": "02dd8765",
   "metadata": {},
   "outputs": [
    {
     "name": "stdout",
     "output_type": "stream",
     "text": [
      "species\n",
      "versicolor    30\n",
      "virginica     30\n",
      "setosa        30\n",
      "Name: species, dtype: int64\n",
      "versicolor    33.333333\n",
      "virginica     33.333333\n",
      "setosa        33.333333\n",
      "Name: species, dtype: float64\n"
     ]
    },
    {
     "data": {
      "image/png": "[encoded data removed]",
      "text/plain": [
       "<Figure size 432x288 with 1 Axes>"
      ]
     },
     "metadata": {
      "needs_background": "light"
     },
     "output_type": "display_data"
    },
    {
     "name": "stdout",
     "output_type": "stream",
     "text": [
      "species_versicolor\n",
      "0    60\n",
      "1    30\n",
      "Name: species_versicolor, dtype: int64\n",
      "0    66.666667\n",
      "1    33.333333\n",
      "Name: species_versicolor, dtype: float64\n"
     ]
    },
    {
     "data": {
      "image/png": "[encoded data removed]",
      "text/plain": [
       "<Figure size 432x288 with 1 Axes>"
      ]
     },
     "metadata": {
      "needs_background": "light"
     },
     "output_type": "display_data"
    },
    {
     "name": "stdout",
     "output_type": "stream",
     "text": [
      "species_virginica\n",
      "0    60\n",
      "1    30\n",
      "Name: species_virginica, dtype: int64\n",
      "0    66.666667\n",
      "1    33.333333\n",
      "Name: species_virginica, dtype: float64\n"
     ]
    },
    {
     "data": {
      "image/png": "[encoded data removed]",
      "text/plain": [
       "<Figure size 432x288 with 1 Axes>"
      ]
     },
     "metadata": {
      "needs_background": "light"
     },
     "output_type": "display_data"
    }
   ],
   "source": [
    "# For each species (categorical variable): create a frequency table and a bar plot of those frequencies.\n",
    "for col in cat_vars:\n",
    "    print(col)\n",
    "    print(train_iris[col].value_counts())\n",
    "    print(train_iris[col].value_counts(normalize=True)*100)\n",
    "    sns.countplot(x=col, data=train_iris)\n",
    "    plt.show()"
   ]
  },
  {
   "cell_type": "markdown",
   "id": "db13de1c",
   "metadata": {},
   "source": [
    "### For each measurement type (quantitative variable): create a histogram, boxplot, & compute descriptive statistics (using .describe())."
   ]
  },
  {
   "cell_type": "code",
   "execution_count": 49,
   "id": "99612151",
   "metadata": {},
   "outputs": [
    {
     "data": {
      "text/plain": [
       "count    90.000000\n",
       "mean      5.875556\n",
       "std       0.792282\n",
       "min       4.400000\n",
       "25%       5.225000\n",
       "50%       5.800000\n",
       "75%       6.400000\n",
       "max       7.900000\n",
       "Name: sepal_length, dtype: float64"
      ]
     },
     "execution_count": 49,
     "metadata": {},
     "output_type": "execute_result"
    },
    {
     "data": {
      "image/png": "[encoded data removed]",
      "text/plain": [
       "<Figure size 432x288 with 1 Axes>"
      ]
     },
     "metadata": {
      "needs_background": "light"
     },
     "output_type": "display_data"
    }
   ],
   "source": [
    "#sepal_length\n",
    "train_iris.sepal_length.hist() #Appears to be fairly normally distributed\n",
    "train_iris.sepal_length.describe()"
   ]
  },
  {
   "cell_type": "code",
   "execution_count": 50,
   "id": "e43d86a5",
   "metadata": {},
   "outputs": [
    {
     "data": {
      "text/plain": [
       "<AxesSubplot:xlabel='sepal_length'>"
      ]
     },
     "execution_count": 50,
     "metadata": {},
     "output_type": "execute_result"
    },
    {
     "data": {
      "image/png": "[encoded data removed]",
      "text/plain": [
       "<Figure size 432x288 with 1 Axes>"
      ]
     },
     "metadata": {
      "needs_background": "light"
     },
     "output_type": "display_data"
    }
   ],
   "source": [
    "#sepal_length box plot\n",
    "sns.boxplot(x='sepal_length', data=train_iris)"
   ]
  },
  {
   "cell_type": "code",
   "execution_count": 51,
   "id": "883ab53a",
   "metadata": {},
   "outputs": [
    {
     "data": {
      "text/plain": [
       "count    90.000000\n",
       "mean      3.070000\n",
       "std       0.436135\n",
       "min       2.200000\n",
       "25%       2.800000\n",
       "50%       3.000000\n",
       "75%       3.375000\n",
       "max       4.400000\n",
       "Name: sepal_width, dtype: float64"
      ]
     },
     "execution_count": 51,
     "metadata": {},
     "output_type": "execute_result"
    },
    {
     "data": {
      "image/png": "[encoded data removed]",
      "text/plain": [
       "<Figure size 432x288 with 1 Axes>"
      ]
     },
     "metadata": {
      "needs_background": "light"
     },
     "output_type": "display_data"
    }
   ],
   "source": [
    "train_iris.sepal_width.hist() #appears to be a normal distribution\n",
    "train_iris.sepal_width.describe()"
   ]
  },
  {
   "cell_type": "code",
   "execution_count": 52,
   "id": "c551d9d5",
   "metadata": {},
   "outputs": [
    {
     "data": {
      "text/plain": [
       "<AxesSubplot:xlabel='sepal_width'>"
      ]
     },
     "execution_count": 52,
     "metadata": {},
     "output_type": "execute_result"
    },
    {
     "data": {
      "image/png": "[encoded data removed]",
      "text/plain": [
       "<Figure size 432x288 with 1 Axes>"
      ]
     },
     "metadata": {
      "needs_background": "light"
     },
     "output_type": "display_data"
    }
   ],
   "source": [
    "#sepal_width box plot\n",
    "sns.boxplot(x='sepal_width', data=train_iris) #boxplot shows a fairly normal distribution, skewed slightly left"
   ]
  },
  {
   "cell_type": "code",
   "execution_count": 53,
   "id": "7befd81a",
   "metadata": {},
   "outputs": [
    {
     "data": {
      "text/plain": [
       "count    90.000000\n",
       "mean      3.782222\n",
       "std       1.742114\n",
       "min       1.200000\n",
       "25%       1.600000\n",
       "50%       4.250000\n",
       "75%       5.100000\n",
       "max       6.900000\n",
       "Name: petal_length, dtype: float64"
      ]
     },
     "execution_count": 53,
     "metadata": {},
     "output_type": "execute_result"
    },
    {
     "data": {
      "image/png": "[encoded data removed]",
      "text/plain": [
       "<Figure size 432x288 with 1 Axes>"
      ]
     },
     "metadata": {
      "needs_background": "light"
     },
     "output_type": "display_data"
    }
   ],
   "source": [
    "train_iris.petal_length.hist() #petal length appears skewed left\n",
    "train_iris.petal_length.describe()"
   ]
  },
  {
   "cell_type": "code",
   "execution_count": 54,
   "id": "41b0f678",
   "metadata": {},
   "outputs": [
    {
     "data": {
      "text/plain": [
       "<AxesSubplot:xlabel='petal_length'>"
      ]
     },
     "execution_count": 54,
     "metadata": {},
     "output_type": "execute_result"
    },
    {
     "data": {
      "image/png": "[encoded data removed]",
      "text/plain": [
       "<Figure size 432x288 with 1 Axes>"
      ]
     },
     "metadata": {
      "needs_background": "light"
     },
     "output_type": "display_data"
    }
   ],
   "source": [
    "#petal_length box plot\n",
    "sns.boxplot(x='petal_length', data=train_iris) #very wide distribution between 1st and 3rd quartile, skewed left"
   ]
  },
  {
   "cell_type": "code",
   "execution_count": 55,
   "id": "16fdd51a",
   "metadata": {},
   "outputs": [
    {
     "data": {
      "text/plain": [
       "count    90.000000\n",
       "mean      1.203333\n",
       "std       0.755422\n",
       "min       0.100000\n",
       "25%       0.400000\n",
       "50%       1.300000\n",
       "75%       1.800000\n",
       "max       2.500000\n",
       "Name: petal_width, dtype: float64"
      ]
     },
     "execution_count": 55,
     "metadata": {},
     "output_type": "execute_result"
    },
    {
     "data": {
      "image/png": "[encoded data removed]",
      "text/plain": [
       "<Figure size 432x288 with 1 Axes>"
      ]
     },
     "metadata": {
      "needs_background": "light"
     },
     "output_type": "display_data"
    }
   ],
   "source": [
    "#petal_width descriptive statistics and histogram\n",
    "train_iris.petal_width.hist() #not a normal distribution\n",
    "train_iris.petal_width.describe()"
   ]
  },
  {
   "cell_type": "code",
   "execution_count": 56,
   "id": "da8878b6",
   "metadata": {},
   "outputs": [
    {
     "data": {
      "text/plain": [
       "<AxesSubplot:xlabel='petal_width'>"
      ]
     },
     "execution_count": 56,
     "metadata": {},
     "output_type": "execute_result"
    },
    {
     "data": {
      "image/png": "[encoded data removed]",
      "text/plain": [
       "<Figure size 432x288 with 1 Axes>"
      ]
     },
     "metadata": {
      "needs_background": "light"
     },
     "output_type": "display_data"
    }
   ],
   "source": [
    "#petal width box plot\n",
    "sns.boxplot(x='petal_width', data=train_iris) #petal_width appears skewed left"
   ]
  },
  {
   "cell_type": "markdown",
   "id": "d4ca3e18",
   "metadata": {},
   "source": [
    "### Document takeaways & any actions."
   ]
  },
  {
   "cell_type": "code",
   "execution_count": 40,
   "id": "8f951fb6",
   "metadata": {},
   "outputs": [],
   "source": [
    "###Sepal length and width appear to have more normal distributions for the train data set. \n",
    "###Petal length and petal width appear to be clustered in different areas, which could be explored further in\n",
    "###species analysis"
   ]
  },
  {
   "cell_type": "markdown",
   "id": "613d2135",
   "metadata": {},
   "source": [
    "## 3. Bivariate Stats"
   ]
  },
  {
   "cell_type": "markdown",
   "id": "38277f2f",
   "metadata": {},
   "source": [
    "#### Visualize each measurement type (y-axis) with the species variable (x-axis) using barplots, adding a horizontal line showing the overall mean of the metric (y-axis)."
   ]
  },
  {
   "cell_type": "code",
   "execution_count": 76,
   "id": "58a7fe8f",
   "metadata": {
    "scrolled": true
   },
   "outputs": [
    {
     "data": {
      "image/png": "[encoded data removed]",
      "text/plain": [
       "<Figure size 432x288 with 1 Axes>"
      ]
     },
     "metadata": {
      "needs_background": "light"
     },
     "output_type": "display_data"
    },
    {
     "data": {
      "image/png": "[encoded data removed]",
      "text/plain": [
       "<Figure size 432x288 with 1 Axes>"
      ]
     },
     "metadata": {
      "needs_background": "light"
     },
     "output_type": "display_data"
    },
    {
     "data": {
      "image/png": "[encoded data removed]",
      "text/plain": [
       "<Figure size 432x288 with 1 Axes>"
      ]
     },
     "metadata": {
      "needs_background": "light"
     },
     "output_type": "display_data"
    },
    {
     "data": {
      "image/png": "[encoded data removed]",
      "text/plain": [
       "<Figure size 432x288 with 1 Axes>"
      ]
     },
     "metadata": {
      "needs_background": "light"
     },
     "output_type": "display_data"
    }
   ],
   "source": [
    "for col in num_vars:\n",
    "    plt.title(f'{col} mean')\n",
    "    sns.barplot(x='species', y = col, data = train_iris)\n",
    "    pop_species_rate = train_iris[col].mean()\n",
    "    plt.axhline(pop_species_rate, label = f'{col} mean')\n",
    "    plt.legend()\n",
    "    plt.show()"
   ]
  },
  {
   "cell_type": "markdown",
   "id": "99e29750",
   "metadata": {},
   "source": [
    "### For virginica & versicolor: Compare the mean petal_width using the Mann-Whitney test (scipy.stats.mannwhitneyu) to see if there is a significant difference between the two groups. Do the same for the other measurement types.\n",
    "1. State the hypotheses. \n",
    "\n",
    "H0: Virginica petal length are on average lower or equal to Versicolor petals\n",
    "Ha: Virginica petals on average are significantly larger than Versicolor petals"
   ]
  },
  {
   "cell_type": "code",
   "execution_count": 77,
   "id": "4ed25ef2",
   "metadata": {},
   "outputs": [],
   "source": [
    "# Choose significance level\n",
    "alpha = 0.05"
   ]
  },
  {
   "cell_type": "code",
   "execution_count": 104,
   "id": "758d4562",
   "metadata": {},
   "outputs": [
    {
     "data": {
      "text/plain": [
       "123    1.8\n",
       "145    2.3\n",
       "130    1.9\n",
       "149    1.8\n",
       "139    2.1\n",
       "125    1.8\n",
       "133    1.5\n",
       "100    2.5\n",
       "108    1.8\n",
       "137    1.8\n",
       "129    1.6\n",
       "119    1.5\n",
       "107    1.8\n",
       "140    2.4\n",
       "114    2.4\n",
       "104    2.2\n",
       "115    2.3\n",
       "132    2.2\n",
       "126    1.8\n",
       "128    2.1\n",
       "109    2.5\n",
       "103    1.8\n",
       "142    1.9\n",
       "112    2.1\n",
       "111    1.9\n",
       "120    2.3\n",
       "147    2.0\n",
       "131    2.0\n",
       "118    2.3\n",
       "141    2.3\n",
       "Name: petal_width, dtype: float64"
      ]
     },
     "execution_count": 104,
     "metadata": {},
     "output_type": "execute_result"
    }
   ],
   "source": [
    "virginica = train_iris[train_iris.species == 'virginica']\n",
    "virginica = virginica.petal_width\n",
    "virginica"
   ]
  },
  {
   "cell_type": "code",
   "execution_count": 105,
   "id": "f51286d6",
   "metadata": {},
   "outputs": [
    {
     "data": {
      "text/plain": [
       "70    1.8\n",
       "87    1.3\n",
       "53    1.3\n",
       "50    1.4\n",
       "54    1.5\n",
       "52    1.5\n",
       "81    1.0\n",
       "88    1.3\n",
       "85    1.6\n",
       "92    1.2\n",
       "74    1.3\n",
       "84    1.5\n",
       "91    1.4\n",
       "89    1.3\n",
       "55    1.3\n",
       "67    1.0\n",
       "94    1.3\n",
       "95    1.2\n",
       "69    1.1\n",
       "61    1.5\n",
       "82    1.2\n",
       "51    1.5\n",
       "59    1.4\n",
       "57    1.0\n",
       "79    1.0\n",
       "73    1.2\n",
       "83    1.6\n",
       "58    1.3\n",
       "96    1.3\n",
       "97    1.3\n",
       "Name: petal_width, dtype: float64"
      ]
     },
     "execution_count": 105,
     "metadata": {},
     "output_type": "execute_result"
    }
   ],
   "source": [
    "versicolor = train_iris[train_iris.species == 'versicolor']\n",
    "versicolor = versicolor.petal_width\n",
    "versicolor"
   ]
  },
  {
   "cell_type": "code",
   "execution_count": 106,
   "id": "0205a98e",
   "metadata": {},
   "outputs": [
    {
     "data": {
      "text/plain": [
       "MannwhitneyuResult(statistic=883.0, pvalue=1.274471779403707e-10)"
      ]
     },
     "execution_count": 106,
     "metadata": {},
     "output_type": "execute_result"
    }
   ],
   "source": [
    "#perform the Mann-Whitney U test\n",
    "stats.mannwhitneyu(virginica, versicolor, alternative='two-sided')"
   ]
  },
  {
   "cell_type": "code",
   "execution_count": 107,
   "id": "3f119acd",
   "metadata": {},
   "outputs": [
    {
     "data": {
      "text/plain": [
       "(883.0, 6.372358897018535e-11)"
      ]
     },
     "execution_count": 107,
     "metadata": {},
     "output_type": "execute_result"
    }
   ],
   "source": [
    "#Automate this test\n",
    "#Virginica\n",
    "virginica = train_iris[train_iris.species == 'virginica']\n",
    "# again, for versicolor\n",
    "versicolor = train_iris[train_iris.species == 'versicolor']\n",
    "# again, for setosa\n",
    "setosa = train_iris[train_iris.species == 'setosa']\n",
    "# establish a one-tailed test using a kwarg in mannwhitney\n",
    "t, p = stats.mannwhitneyu(virginica.petal_width, versicolor.petal_width, \n",
    "                          alternative=\"greater\")\n",
    "t, p"
   ]
  },
  {
   "cell_type": "code",
   "execution_count": 108,
   "id": "3b9dde77",
   "metadata": {},
   "outputs": [
    {
     "name": "stdout",
     "output_type": "stream",
     "text": [
      "Comparing sepal_length between virginica and versicolor\n",
      "767.0 1.3741209709595538e-06\n",
      "------------------\n",
      "\n",
      "\n",
      "Comparing sepal_width between virginica and versicolor\n",
      "575.0 0.03185465204978467\n",
      "------------------\n",
      "\n",
      "\n",
      "Comparing petal_length between virginica and versicolor\n",
      "892.5 3.014978965256525e-11\n",
      "------------------\n",
      "\n",
      "\n",
      "Comparing petal_width between virginica and versicolor\n",
      "883.0 6.372358897018535e-11\n",
      "------------------\n",
      "\n",
      "\n"
     ]
    }
   ],
   "source": [
    "test_var = ['sepal_length', 'sepal_width', 'petal_length', 'petal_width']\n",
    "for var in test_var:\n",
    "    t, p = t, p = stats.mannwhitneyu(virginica[var], versicolor[var], alternative=\"greater\")\n",
    "    print(f'Comparing {var} between virginica and versicolor')\n",
    "    print(t, p)\n",
    "    print('------------------')\n",
    "    print('\\n')"
   ]
  },
  {
   "cell_type": "code",
   "execution_count": null,
   "id": "bdd71b2c",
   "metadata": {},
   "outputs": [],
   "source": [
    "# Document takeaways & any actions.\n",
    "# Virginica sepal length, sepal width, petal length, and petal width mean are significantly larger than versicolors in\n",
    "# four listed variable values"
   ]
  },
  {
   "cell_type": "markdown",
   "id": "ef170284",
   "metadata": {},
   "source": [
    "## Multivariate stats"
   ]
  },
  {
   "cell_type": "code",
   "execution_count": 111,
   "id": "5f7900c9",
   "metadata": {},
   "outputs": [
    {
     "name": "stdout",
     "output_type": "stream",
     "text": [
      "<class 'pandas.core.frame.DataFrame'>\n",
      "Int64Index: 90 entries, 70 to 97\n",
      "Data columns (total 7 columns):\n",
      " #   Column              Non-Null Count  Dtype  \n",
      "---  ------              --------------  -----  \n",
      " 0   sepal_length        90 non-null     float64\n",
      " 1   sepal_width         90 non-null     float64\n",
      " 2   petal_length        90 non-null     float64\n",
      " 3   petal_width         90 non-null     float64\n",
      " 4   species             90 non-null     object \n",
      " 5   species_versicolor  90 non-null     uint8  \n",
      " 6   species_virginica   90 non-null     uint8  \n",
      "dtypes: float64(4), object(1), uint8(2)\n",
      "memory usage: 4.4+ KB\n"
     ]
    }
   ],
   "source": [
    "train_iris.info()"
   ]
  },
  {
   "cell_type": "code",
   "execution_count": 115,
   "id": "092e2693",
   "metadata": {},
   "outputs": [
    {
     "data": {
      "text/plain": [
       "<AxesSubplot:xlabel='sepal_length', ylabel='sepal_width'>"
      ]
     },
     "execution_count": 115,
     "metadata": {},
     "output_type": "execute_result"
    },
    {
     "data": {
      "image/png": "[encoded data removed]",
      "text/plain": [
       "<Figure size 432x288 with 1 Axes>"
      ]
     },
     "metadata": {
      "needs_background": "light"
     },
     "output_type": "display_data"
    }
   ],
   "source": [
    "# Visualize the interaction of each measurement type with the others using a pairplot\n",
    "#(or scatter matrix or something similar) and add color to represent species.\n",
    "#Sepal Length vs width\n",
    "sns.scatterplot(x='sepal_length', y='sepal_width', hue='species', data=train_iris)"
   ]
  },
  {
   "cell_type": "code",
   "execution_count": null,
   "id": "a516d3dc",
   "metadata": {},
   "outputs": [],
   "source": []
  }
 ],
 "metadata": {
  "kernelspec": {
   "display_name": "Python 3 (ipykernel)",
   "language": "python",
   "name": "python3"
  },
  "language_info": {
   "codemirror_mode": {
    "name": "ipython",
    "version": 3
   },
   "file_extension": ".py",
   "mimetype": "text/x-python",
   "name": "python",
   "nbconvert_exporter": "python",
   "pygments_lexer": "ipython3",
   "version": "3.9.12"
  }
 },
 "nbformat": 4,
 "nbformat_minor": 5
}
